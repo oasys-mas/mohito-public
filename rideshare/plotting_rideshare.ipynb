{
 "cells": [
  {
   "cell_type": "markdown",
   "metadata": {},
   "source": [
    "# Plotting Rideshare results for MOHITO"
   ]
  },
  {
   "cell_type": "markdown",
   "metadata": {},
   "source": [
    "imports"
   ]
  },
  {
   "cell_type": "code",
   "execution_count": null,
   "metadata": {},
   "outputs": [],
   "source": [
    "import pandas as pd\n",
    "from scipy import stats\n",
    "import math\n",
    "import matplotlib.pyplot as plt\n",
    "from functools import reduce\n",
    "import operator"
   ]
  },
  {
   "cell_type": "markdown",
   "metadata": {},
   "source": [
    "parameters"
   ]
  },
  {
   "cell_type": "code",
   "execution_count": null,
   "metadata": {},
   "outputs": [],
   "source": [
    "#should contain the concatenated data from rideshare (across checkpoints) + baselines + TaO-PG-ELLA\n",
    "result_file = 'mohitoR/gayathri/TaO-Thesis/spreadsheets/performance_evaluation_mohito-fcfs-ntf.csv'\n",
    "colors = ['#009ADE','#AF58BA','#FFC61E','#F28522']\n",
    "order = ['MOHITO','FCFS','NTF']"
   ]
  },
  {
   "cell_type": "markdown",
   "metadata": {},
   "source": [
    "## Preprocessing"
   ]
  },
  {
   "cell_type": "code",
   "execution_count": null,
   "metadata": {},
   "outputs": [],
   "source": [
    "df = pd.read_csv(result_file)\n",
    "\n",
    "#confirm the correct number of unique seeds across all ag/ol combinations\n",
    "print(df[['ag','ol','seed']].groupby(['ag','ol'])['seed'].nunique())\n",
    "\n",
    "#confirm the correct policies\n",
    "#numerical values here are for mohito policies (see TaO-PG-ELLA for checkpoint nomenclature)\n",
    "print(df['type'].unique())"
   ]
  },
  {
   "cell_type": "markdown",
   "metadata": {},
   "source": [
    "Determine the best performing mohito policy"
   ]
  },
  {
   "cell_type": "code",
   "execution_count": null,
   "metadata": {},
   "outputs": [],
   "source": [
    "mohito_df = df[~df['type'].isin(['random','simple_time','simple_distance','tao-pgella', 'NTF', 'FCFS', 'Random'])]\n",
    "\n",
    "group = mohito_df.groupby(['ag', 'ol'])\n",
    "\n",
    "best_policy = {}\n",
    "\n",
    "for (ag, ol), group_df in group:\n",
    "    #sum over all agents and all steps\n",
    "    agg = group_df.groupby(['type','seed'])['reward'].sum().reset_index()\n",
    "    #mean over all episodes\n",
    "    agg = group_df.groupby(['type'])['reward'].mean()\n",
    "    agg_std = group_df.groupby(['type'])['reward'].std()\n",
    "    #find the best policy\n",
    "    best_policy[(ag, ol)] = (agg.idxmax(), agg.max(), agg_std[agg.idxmax()])\n",
    "\n",
    "print(\"Best policies (ag, ol) -> (policy, mean reward, std)\")\n",
    "print(best_policy)"
   ]
  },
  {
   "cell_type": "markdown",
   "metadata": {},
   "source": [
    "Generate plotting df"
   ]
  },
  {
   "cell_type": "code",
   "execution_count": null,
   "metadata": {},
   "outputs": [],
   "source": [
    "df = pd.read_csv(result_file)\n",
    "\n",
    "#is a baseline\n",
    "#can include random here...\n",
    "baseline_mask = df['type'].isin(['simple_time','simple_distance','tao-pgella', 'FCFS', 'NTF', 'Random'])\n",
    "\n",
    "#is a best mohito policy\n",
    "mohito_mask = [\n",
    "    (df['type'] == best_policy[(ag, ol)][0]) & (df['ag'] == ag) & (df['ol'] == ol)\n",
    "    for (ag, ol) in best_policy.keys()\n",
    "]\n",
    "mohito_mask = reduce( operator.or_ , mohito_mask)\n",
    "\n",
    "df['type'][mohito_mask] = 'MOHITO'\n",
    "\n",
    "plotting_df = df[baseline_mask | mohito_mask]\n",
    "\n",
    "rename = {\n",
    "    'random': 'Random',\n",
    "    'simple_time': 'FCFS',\n",
    "    'simple_distance': 'NTF',\n",
    "    'MOHITO': 'MOHITO',\n",
    "    'FCFS': 'FCFS',\n",
    "    'NTF': 'NTF',\n",
    "    'mohito': 'MOHITO'\n",
    "}\n",
    "\n",
    "plotting_df['type'] = plotting_df['type'].apply(lambda x: rename[x])\n",
    "\n",
    "display(plotting_df)"
   ]
  },
  {
   "cell_type": "markdown",
   "metadata": {},
   "source": [
    "## Plotting"
   ]
  },
  {
   "cell_type": "markdown",
   "metadata": {},
   "source": [
    "### Rewards"
   ]
  },
  {
   "cell_type": "code",
   "execution_count": null,
   "metadata": {},
   "outputs": [],
   "source": [
    "rdf = plotting_df.copy()\n",
    "\n",
    "fig, ax = plt.subplots(3, 1,figsize=(10, 6))\n",
    "\n",
    "\n",
    "for ol in [1, 2, 3]:\n",
    "    rdfol = rdf[rdf['ol'] == ol]\n",
    "    rdfol = rdfol.groupby(['ag', 'type', 'seed'])['reward'].sum().reset_index()\n",
    "\n",
    "    rdpiv = rdfol.pivot_table(index='ag', columns='type', values='reward',aggfunc='mean').reindex(columns=order)\n",
    "    rdpiv_std = rdfol.pivot_table(index='ag', columns='type', values='reward',aggfunc='std').reindex(columns=order)\n",
    "    rdpiv_std = rdpiv_std * 2.04523 / math.sqrt(10) # 95% ci\n",
    "\n",
    "    rdpiv.plot(kind='bar', yerr=rdpiv_std, ax=ax[ol-1], color=colors, capsize=5)\n",
    "    ax[ol-1].set_title(f'Openness Level {ol}')\n",
    "    ax[ol-1].get_legend().remove()\n",
    "    ax[ol-1].set_xticks([])\n",
    "    ax[ol-1].set_xlabel('')\n",
    "\n",
    "ax[2].set_xticks(range(len(order)))\n",
    "ax[2].set_xticklabels([f'{ag} Agents' for ag in [2,3,4]], rotation=0)\n",
    "ax[2].set_xlabel('Agent Group')\n",
    "ax[1].set_ylabel('Mean Reward (with CI)')\n",
    "plt.tight_layout()\n"
   ]
  },
  {
   "cell_type": "markdown",
   "metadata": {},
   "source": [
    "### Pooling efficacy\n",
    "\n",
    "(will not group properly if not all ols and ag are present)"
   ]
  },
  {
   "cell_type": "code",
   "execution_count": null,
   "metadata": {},
   "outputs": [],
   "source": [
    "pdf = plotting_df.copy()\n",
    "\n",
    "pdf = pdf[(pdf['type'] == 'MOHITO') & (pdf['pooling_status'] != 'none')][['ag', 'agent','ol','seed','pooling_status', 'type']]\n",
    "\n",
    "pdfg = pdf.groupby(['ag', 'agent', 'ol', 'seed', 'pooling_status']).count().reset_index()\n",
    "\n",
    "pdfg['pooling_status'] = pdfg['pooling_status'].str.replace('single', 'Single task execution')\n",
    "pdfg['pooling_status'] = pdfg['pooling_status'].str.replace('pooling', 'Pooled task execution')\n",
    "\n",
    "# print(pdfg)\n",
    "\n",
    "table = pdfg.copy().pivot_table(index=['ag','ol'], columns=['pooling_status'], values='type', aggfunc='mean', fill_value=0)\n",
    "stdtable = pdfg.copy().pivot_table(index=['ag','ol'], columns=['pooling_status'], values='type', aggfunc='std', fill_value=0)\n",
    "\n",
    "stdtable = 2.04523 * stdtable / math.sqrt(30)\n",
    "\n",
    "colors = ['#009ADE','#AF58BA']\n",
    "\n",
    "table.plot(kind='bar', stacked=False, yerr=stdtable, capsize=3, color=colors, figsize=(7,4), width=0.7)\n",
    "\n",
    "plt.legend(title='',framealpha=0.0)\n",
    "\n",
    "plt.xticks([\n",
    "    0,1,2,3,4,5,6,7,8\n",
    "], [\n",
    "    '1',\n",
    "    '2',\n",
    "    '3',\n",
    "    '1',\n",
    "    '2',\n",
    "    '3',\n",
    "    '1',\n",
    "    '2',\n",
    "    '3',\n",
    "], rotation=0, size=12, )\n",
    "\n",
    "plt.xlabel('')\n",
    "plt.ylabel('Average steps per agent per episode', size=12, )\n",
    "\n",
    "# plt.tight_layout()\n",
    "plt.yticks(size=12, )\n",
    "\n",
    "ax = plt.gca()\n",
    "l = plt.legend(prop={'size':14}, title='', framealpha=0.0, bbox_to_anchor=(2.5, 45.0), bbox_transform=ax.transData)\n",
    "l.get_texts()[0].set_text('Pooled task')\n",
    "l.get_texts()[1].set_text('Single task')\n",
    "\n",
    "plt.axvline(x=2.5, color='black', linestyle='--', linewidth=2, label='_nolegend_')\n",
    "plt.axvline(x=5.5, color='black', linestyle='--', linewidth=2, label='_nolegend_')\n",
    "\n",
    "plt.text(0.15, 62, '2 Agents', size=14, )\n",
    "plt.text(3.15, 62, '3 Agents', size=14, )\n",
    "plt.text(6.15, 62, '4 Agents', size=14, )\n",
    "\n",
    "plt.xlabel('Openness Level', size=14, )\n",
    "plt.tight_layout()\n",
    "\n",
    "plt.savefig('pooling-efficacy-updated.pdf')"
   ]
  },
  {
   "cell_type": "markdown",
   "metadata": {},
   "source": [
    "### Task duration"
   ]
  },
  {
   "cell_type": "code",
   "execution_count": null,
   "metadata": {},
   "outputs": [],
   "source": [
    "tdf = plotting_df.copy()\n",
    "\n",
    "# handle string tensor logs\n",
    "tdf['mohito-entry-step'] = tdf['entry-step'].str.extract(\n",
    "    r'tensor\\((.*)\\)').astype(float)\n",
    "tdf = tdf[tdf['ride_status'] == 'done']\n",
    "\n",
    "random_mask = tdf['type'] == 'Random'\n",
    "mohito_mask = tdf['type'] == 'MOHITO'\n",
    "\n",
    "tdf.loc[mohito_mask, 'entry-step'] = tdf.loc[mohito_mask, 'mohito-entry-step']\n",
    "tdf.loc[random_mask, 'entry-step'] = tdf.loc[random_mask, 'mohito-entry-step']\n",
    "tdf.drop(columns=['mohito-entry-step'], inplace=True)\n",
    "tdf['step'] = tdf['step'].astype(float)\n",
    "tdf['entry-step'] = tdf['entry-step'].astype(float)\n",
    "#---------\n",
    "\n",
    "# filter out the noop actions\n",
    "tdf['duration'] =  tdf['step'] - tdf['entry-step']\n",
    "tdf = tdf[tdf['action-label'] != 'noop']\n",
    "\n",
    "gp_filt = tdf[['ol', 'ag', 'type', 'seed', 'duration', 'action-label']].groupby(['ol', 'type', 'ag', 'action-label']).mean().reset_index()\n",
    "\n",
    "gp_piv = gp_filt.pivot_table(index='ol',\n",
    "                             columns='type',\n",
    "                             values='duration',\n",
    "                             aggfunc='mean').reindex(columns=order)\n",
    "gp_std = gp_filt.pivot_table(index='ol',\n",
    "                             columns='type',\n",
    "                             values='duration',\n",
    "                             aggfunc='std').reindex(columns=order)\n",
    "\n",
    "\n",
    "gp_std = 2.04523 * gp_std / math.sqrt(30)\n",
    "\n",
    "gp_piv.plot(kind='bar', stacked=False, color=['#009ADE','#AF58BA','#FFC61E','red'], yerr=gp_std, capsize=5, figsize=(7, 4), fontsize=14, width=0.8)\n",
    "plt.ylabel('Mean Ride Duration (in timesteps)', fontsize=14)\n",
    "plt.xlabel('Openness Level', fontsize=16,)\n",
    "# plt.legend(title='', fontsize=16, loc='upper left', labels=['MOHITO', 'FCFS', 'NTF'], framealpha=0.0, ncols=3, prop={'size':13})\n",
    "plt.xticks(rotation=0, fontsize=14)\n",
    "plt.yticks(fontsize=14)\n",
    "plt.tight_layout()\n",
    "plt.savefig('ride_duration.pdf', bbox_inches='tight')"
   ]
  },
  {
   "cell_type": "code",
   "execution_count": null,
   "metadata": {},
   "outputs": [],
   "source": []
  }
 ],
 "metadata": {
  "kernelspec": {
   "display_name": "testthree12",
   "language": "python",
   "name": "python3"
  },
  "language_info": {
   "codemirror_mode": {
    "name": "ipython",
    "version": 3
   },
   "file_extension": ".py",
   "mimetype": "text/x-python",
   "name": "python",
   "nbconvert_exporter": "python",
   "pygments_lexer": "ipython3",
   "version": "3.12.11"
  }
 },
 "nbformat": 4,
 "nbformat_minor": 2
}
